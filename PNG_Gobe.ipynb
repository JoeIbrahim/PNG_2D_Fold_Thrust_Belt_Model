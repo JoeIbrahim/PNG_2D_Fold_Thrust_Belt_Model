{
 "cells": [
  {
   "cell_type": "markdown",
   "metadata": {},
   "source": [
    "# Basin Scale Papuan Fold & Thrust Belt Models"
   ]
  },
  {
   "cell_type": "code",
   "execution_count": 1,
   "metadata": {},
   "outputs": [
    {
     "name": "stdout",
     "output_type": "stream",
     "text": [
      "loaded rc file /usr/local/lib/python3.5/dist-packages/UWGeodynamics/uwgeo-data/uwgeodynamicsrc\n"
     ]
    }
   ],
   "source": [
    "import UWGeodynamics as GEO\n",
    "import glucifer\n",
    "import numpy as np"
   ]
  },
  {
   "cell_type": "code",
   "execution_count": 2,
   "metadata": {},
   "outputs": [
    {
     "name": "stdout",
     "output_type": "stream",
     "text": [
      "UWGeo version: 2.8.5\n"
     ]
    }
   ],
   "source": [
    "print(\"UWGeo version:\", GEO.__version__)"
   ]
  },
  {
   "cell_type": "code",
   "execution_count": 3,
   "metadata": {},
   "outputs": [],
   "source": [
    "u = GEO.UnitRegistry"
   ]
  },
  {
   "cell_type": "markdown",
   "metadata": {},
   "source": [
    "## Scaling"
   ]
  },
  {
   "cell_type": "code",
   "execution_count": 4,
   "metadata": {},
   "outputs": [],
   "source": [
    "half_rate = 10 * u.millimeter / u.year\n",
    "model_length = 42e3 * u.meter\n",
    "surfaceTemp = 273.15 * u.degK\n",
    "baseModelTemp = 1603.15 * u.degK\n",
    "bodyforce = 2700 * u.kilogram / u.metre**3 * 9.81 * u.meter / u.second**2\n",
    "KL = model_length\n",
    "Kt = KL / half_rate\n",
    "KM = bodyforce * KL**2 * Kt**2\n",
    "KT = (baseModelTemp - surfaceTemp)\n",
    "GEO.scaling_coefficients[\"[length]\"] = KL\n",
    "GEO.scaling_coefficients[\"[time]\"] = Kt\n",
    "GEO.scaling_coefficients[\"[mass]\"]= KM\n",
    "GEO.scaling_coefficients[\"[temperature]\"] = KT"
   ]
  },
  {
   "cell_type": "markdown",
   "metadata": {},
   "source": [
    "## Model Setup"
   ]
  },
  {
   "cell_type": "code",
   "execution_count": 5,
   "metadata": {},
   "outputs": [],
   "source": [
    "# Optional numerical resolution\n",
    "\n",
    "res = (256, 128) # for running in binder. Considered under resolved but quick to run/test.\n",
    "#res = (512, 256) # ~80m resolution, consider running in parallel\n",
    "#(525, 217), #80m resolution - JoeI's original resolution\n",
    "\n",
    "Model = GEO.Model(elementRes=res,\n",
    "                  minCoord=(-21. * u.kilometer, -11.6 * u.kilometer),\n",
    "                  maxCoord=(21. * u.kilometer, 6.4 * u.kilometer),\n",
    "                  gravity=(0.0, -9.81 * u.meter / u.second**2))"
   ]
  },
  {
   "cell_type": "code",
   "execution_count": 6,
   "metadata": {},
   "outputs": [],
   "source": [
    "Model.outputDir=\"PNG_Model\""
   ]
  },
  {
   "cell_type": "markdown",
   "metadata": {},
   "source": [
    "For all rocks, we assume a heat capacity of 1000 J kg−1 K−1 and thermal diffusivity of 9·10−7 m2 s−1. The crustal thermal conductivity is therefore 2.45 W m−1 K−1."
   ]
  },
  {
   "cell_type": "code",
   "execution_count": 6,
   "metadata": {},
   "outputs": [],
   "source": [
    "Model.diffusivity = 9e-7 * u.metre**2 / u.second \n",
    "Model.capacity    = 1000. * u.joule / (u.kelvin * u.kilogram)"
   ]
  },
  {
   "cell_type": "markdown",
   "metadata": {},
   "source": [
    "## Air Layer"
   ]
  },
  {
   "cell_type": "code",
   "execution_count": 7,
   "metadata": {},
   "outputs": [],
   "source": [
    "air = Model.add_material(name=\"Air\", shape=GEO.shapes.Layer(top=Model.top, bottom=0 * u.kilometer))\n",
    "air.density = 1. * u.kilogram / u.metre**3\n",
    "air.diffusivity = 1e-6 * u.metre**2 / u.second\n",
    "air.capacity = 1000. * u.joule / (u.kelvin * u.kilogram)\n"
   ]
  },
  {
   "cell_type": "markdown",
   "metadata": {},
   "source": [
    "## Sedimentary Layers"
   ]
  },
  {
   "cell_type": "code",
   "execution_count": 8,
   "metadata": {},
   "outputs": [],
   "source": [
    "Darai_vertices = [(21. * u.kilometer, -1.2 * u.kilometer),\n",
    "                  (21. * u.kilometer, 2 * u.kilometer),\n",
    "                  (3. * u.kilometer, 0. * u.kilometer),\n",
    "                  (-16. * u.kilometer, 0. * u.kilometer),\n",
    "                  (-21. * u.kilometer, 0.7 * u.kilometer),\n",
    "                  (-21. * u.kilometer, -1.2 * u.kilometer)]\n",
    "\n",
    "#Darai contains sediment wedges to influence the position of initial faults\n",
    "\n",
    "Darai = Model.add_material(name=\"Darai_Limestone\", shape=GEO.shapes.Polygon(Darai_vertices))\n",
    "Darai.radiogenicHeatProd = 7.67e-7 * u.watt / u.meter**3\n",
    "Darai.density  = 2700. * u.kilogram / u.metre**3\n",
    "\n",
    "Ieru = Model.add_material(name=\"Ieru_Shale\", shape=GEO.shapes.Layer2D(top=-1.2 * u.kilometer, bottom=-2. * u.kilometer))\n",
    "Ieru.radiogenicHeatProd = 7.67e-7 * u.watt / u.meter**3\n",
    "Ieru.density  = 2075. * u.kilogram / u.metre**3\n",
    "\n",
    "Toro = Model.add_material(name=\"Toro_Sandstone\", shape=GEO.shapes.Layer2D(top=-2. * u.kilometer, bottom=-2.5 * u.kilometer))\n",
    "Toro.radiogenicHeatProd = 7.67e-7 * u.watt / u.meter**3\n",
    "Toro.density  = 2600. * u.kilogram / u.metre**3\n",
    "\n",
    "Imburu = Model.add_material(name=\"Imburu_Shale\", shape=GEO.shapes.Layer2D(top=-2.5 * u.kilometer, bottom=-4. * u.kilometer))\n",
    "Imburu.radiogenicHeatProd = 7.67e-7 * u.watt / u.meter**3\n",
    "Imburu.density  = 2300. * u.kilogram / u.metre**3"
   ]
  },
  {
   "cell_type": "markdown",
   "metadata": {},
   "source": [
    "## Basement"
   ]
  },
  {
   "cell_type": "code",
   "execution_count": 9,
   "metadata": {},
   "outputs": [],
   "source": [
    "Basement = Model.add_material(name=\"Continental Crust\", shape=GEO.shapes.Layer2D(top=-4. * u.kilometer, bottom=-7. * u.kilometer))\n",
    "Basement.radiogenicHeatProd = 7.67e-7 * u.watt / u.meter**3\n",
    "Basement.density  = 2720. * u.kilogram / u.metre**3"
   ]
  },
  {
   "cell_type": "markdown",
   "metadata": {},
   "source": [
    "## Magobu Mudstone"
   ]
  },
  {
   "cell_type": "code",
   "execution_count": 10,
   "metadata": {},
   "outputs": [],
   "source": [
    "magobu_vertices = [(-21. * u.kilometer, -5.5 * u.kilometer),\n",
    "                   (-1. * u.kilometer, -5.5 * u.kilometer),\n",
    "                   (0. * u.kilometer, -5. * u.kilometer),\n",
    "                   (1. * u.kilometer, -4.2 * u.kilometer),\n",
    "                   (1. * u.kilometer, -4. * u.kilometer),\n",
    "                   (-21. * u.kilometer, -4. * u.kilometer),\n",
    "                   (-21. * u.kilometer, -5.5 * u.kilometer)]\n",
    "\n",
    "Magobu = Model.add_material(name=\"Magobu_Mudstone\", shape=GEO.shapes.Polygon(magobu_vertices))\n",
    "Magobu.radiogenicHeatProd = 7.67e-7 * u.watt / u.meter**3\n",
    "Magobu.density  = 2350. * u.kilogram / u.metre**3"
   ]
  },
  {
   "cell_type": "markdown",
   "metadata": {},
   "source": [
    "## Pre-defining Initial Faults and Decollements"
   ]
  },
  {
   "cell_type": "code",
   "execution_count": 11,
   "metadata": {},
   "outputs": [],
   "source": [
    "Basal_Detachment = [(21. * u.kilometer, -4. * u.kilometer),\n",
    "                         (1. * u.kilometer, -4. * u.kilometer),\n",
    "                         (1. * u.kilometer, -3.3 * u.kilometer),\n",
    "                         (21. * u.kilometer, -3.3 * u.kilometer),\n",
    "                         (21. * u.kilometer, -4. * u.kilometer)]\n",
    "\n",
    "Basal_Detachment = Model.add_material(name=\"Imburu_weak3\", shape=GEO.shapes.Polygon(Basal_Detachment))\n",
    "Basal_Detachment.radiogenicHeatProd = 7.67e-7 * u.watt / u.meter**3\n",
    "Basal_Detachment.density  = 2300. * u.kilogram / u.metre**3\n",
    "\n",
    "\n",
    "Graben_Fault = [(-4. * u.kilometer, -7. * u.kilometer),\n",
    "                          (-3. * u.kilometer, -6.7 * u.kilometer),\n",
    "                          (-2. * u.kilometer, -6.2 * u.kilometer),\n",
    "                          (0. * u.kilometer, -5. * u.kilometer),\n",
    "                          (1. * u.kilometer, -4.2 * u.kilometer),\n",
    "                          (1. * u.kilometer, -4.0 * u.kilometer),\n",
    "                          (0. * u.kilometer, -4.8 * u.kilometer),\n",
    "                          (-1. * u.kilometer, -5.5 * u.kilometer),\n",
    "                          (-2. * u.kilometer, -6. * u.kilometer),\n",
    "                          (-3. * u.kilometer, -6.5 * u.kilometer),\n",
    "                          (-4. * u.kilometer, -6.8 * u.kilometer)]\n",
    "\n",
    "Graben_Fault = Model.add_material(name=\"Basement_weak\", shape=GEO.shapes.Polygon(Graben_Fault))\n",
    "Graben_Fault.radiogenicHeatProd = 7.67e-7 * u.watt / u.meter**3\n",
    "Graben_Fault.density  = 2720. * u.kilogram / u.metre**3\n"
   ]
  },
  {
   "cell_type": "markdown",
   "metadata": {},
   "source": [
    "## Rheology"
   ]
  },
  {
   "cell_type": "code",
   "execution_count": 12,
   "metadata": {},
   "outputs": [],
   "source": [
    "rh = GEO.ViscousCreepRegistry()"
   ]
  },
  {
   "cell_type": "code",
   "execution_count": 13,
   "metadata": {},
   "outputs": [],
   "source": [
    "Model.minViscosity = 5e18 * u.pascal * u.second\n",
    "Model.maxViscosity = 5e23 * u.pascal * u.second\n",
    "\n",
    "air.viscosity = 5e18 * u.pascal * u.second\n",
    "\n",
    "Darai.viscosity = 1e22 * u.pascal * u.second\n",
    "\n",
    "Ieru.viscosity = 8e19 * u.pascal * u.second\n",
    "\n",
    "Toro.viscosity = 1e21 * u.pascal * u.second\n",
    "\n",
    "Imburu.viscosity = 5e20 * u.pascal * u.second\n",
    "\n",
    "Basement.viscosity = 1e23 * u.pascal * u.second\n",
    "\n",
    "Magobu.viscosity = 5e20 * u.pascal * u.second\n",
    "\n",
    "Basal_Detachment.viscosity = 1e19 * u.pascal * u.second\n",
    "\n",
    "Graben_Fault.viscosity = 1e19 * u.pascal * u.second"
   ]
  },
  {
   "cell_type": "code",
   "execution_count": 14,
   "metadata": {},
   "outputs": [],
   "source": [
    "#These layers are used for both the conveyor belt boundary condition, and the isostasy boundary condition. \n",
    "\n",
    "#The rigid base acts as a proxy for the mantle when le_code isostasy is used. Its density will tweak the magnitude of the flexural response.\n",
    "\n",
    "fricLayerShape = GEO.shapes.Layer(top=Model.bottom + 4.6 * u.kilometer, bottom=Model.bottom + 4.1 * u.kilometer)\n",
    "rigidBaseShape = GEO.shapes.Layer(top=Model.bottom + 4.1 * u.kilometer, bottom=Model.bottom)\n",
    "\n",
    "rigidBase = Model.add_material(name=\"Frictional\", shape=rigidBaseShape)\n",
    "rigidBase.radiogenicHeatProd = 7.67e-7 * u.watt / u.meter**3\n",
    "rigidBase.density  = 3500. * u.kilogram / u.metre**3\n",
    "rigidBase.viscosity = 1e23 * u.pascal * u.second\n",
    "\n",
    "frictionalBasal = Model.add_material(name=\"Frictional\", shape=fricLayerShape)\n",
    "frictionalBasal.viscosity = 1e23 * u.pascal * u.second\n",
    "frictionalBasal.density = 3500.0 * u.kilogram / u.metre**3\n",
    "frictionalBasal.plasticity = GEO.DruckerPrager(\n",
    "                                               cohesion=0.1 * u.megapascal,\n",
    "                                               frictionCoefficient=np.tan(np.radians(12.0)),\n",
    "                                               frictionAfterSoftening=np.tan(np.radians(6.0)),\n",
    "                                               epsilon1=0.01,\n",
    "                                               epsilon2=0.06\n",
    "                                               )"
   ]
  },
  {
   "cell_type": "code",
   "execution_count": 15,
   "metadata": {},
   "outputs": [],
   "source": [
    "Model.init_model()"
   ]
  },
  {
   "cell_type": "code",
   "execution_count": 16,
   "metadata": {},
   "outputs": [],
   "source": [
    "Darai.plasticity = GEO.DruckerPrager(name=\"Darai_Limestone\",\n",
    "                                     cohesion=5. * u.megapascal,\n",
    "                                     cohesionAfterSoftening=0.5 * u.megapascal,\n",
    "                                     frictionCoefficient=0.1,\n",
    "                                     frictionAfterSoftening=0.01,\n",
    "                                     epsilon1=0.1, epsilon2=0.25)\n",
    "Ieru.plasticity = GEO.DruckerPrager(name=\"Ieru_Shale\",\n",
    "                                    cohesion=5. * u.megapascal,\n",
    "                                    cohesionAfterSoftening=0.5 * u.megapascal,\n",
    "                                    frictionCoefficient=0.1,\n",
    "                                    frictionAfterSoftening=0.01,\n",
    "                                    epsilon1=0.1, epsilon2=0.25)\n",
    "Toro.plasticity = GEO.DruckerPrager(name=\"Toro_Sandstone\",\n",
    "                                    cohesion=5. * u.megapascal,\n",
    "                                    cohesionAfterSoftening=0.5 * u.megapascal,\n",
    "                                    frictionCoefficient=0.1,\n",
    "                                    frictionAfterSoftening=0.01,\n",
    "                                    epsilon1=0.1, epsilon2=0.25)\n",
    "Imburu.plasticity = GEO.DruckerPrager(name=\"Imburu_Shale\",\n",
    "                                      cohesion=5. * u.megapascal,\n",
    "                                      cohesionAfterSoftening=0.5 * u.megapascal,\n",
    "                                      frictionCoefficient=0.1,\n",
    "                                      frictionAfterSoftening=0.01,\n",
    "                                      epsilon1=0.1, epsilon2=0.25)\n",
    "\n",
    "Magobu.plasticity = GEO.DruckerPrager(name=\"Magobu_Mudstone\",\n",
    "                                      cohesion=5. * u.megapascal,\n",
    "                                      cohesionAfterSoftening=0.5 * u.megapascal,\n",
    "                                      frictionCoefficient=0.1,\n",
    "                                      frictionAfterSoftening=0.01,\n",
    "                                      epsilon1=0.1, epsilon2=0.25)\n",
    "\n",
    "Basement.plasticity = GEO.DruckerPrager(name=\"Basement\",\n",
    "                                        cohesion=40. * u.megapascal,\n",
    "                                        cohesionAfterSoftening=4. * u.megapascal,\n",
    "                                        frictionCoefficient=0.6,\n",
    "                                        frictionAfterSoftening=0.06,\n",
    "                                        epsilon1=0.1, epsilon2=0.25)\n",
    "\n",
    "\n",
    "Basal_Detachment.plasticity = GEO.DruckerPrager(name=\"Imburu_Fault\",\n",
    "                                            cohesion=1. * u.megapascal,\n",
    "                                            cohesionAfterSoftening=0.01 * u.megapascal,\n",
    "                                            frictionCoefficient=0.05,\n",
    "                                            frictionAfterSoftening=0.01,\n",
    "                                            epsilon1=0., epsilon2=0.01)\n",
    "\n",
    "Graben_Fault.plasticity = GEO.DruckerPrager(name=\"Basement_Fault\",\n",
    "                                             cohesion=1. * u.megapascal,\n",
    "                                             cohesionAfterSoftening=0.01 * u.megapascal,\n",
    "                                             frictionCoefficient=0.05,\n",
    "                                             frictionAfterSoftening=0.01,\n",
    "                                             epsilon1=0., epsilon2=0.01)"
   ]
  },
  {
   "cell_type": "markdown",
   "metadata": {},
   "source": [
    "## Heat Flow"
   ]
  },
  {
   "cell_type": "code",
   "execution_count": 17,
   "metadata": {},
   "outputs": [
    {
     "data": {
      "text/plain": [
       "<underworld.conditions._conditions.NeumannCondition at 0x7f9d89669e80>"
      ]
     },
     "execution_count": 17,
     "metadata": {},
     "output_type": "execute_result"
    }
   ],
   "source": [
    "Model.set_temperatureBCs(top=293.15 * u.degK, materials=[(air, 293.15*u.degK)])\n",
    "Model.set_heatFlowBCs(bottom=(-0.044 * u.watt / u.metre**2, Basement))\n"
   ]
  },
  {
   "cell_type": "markdown",
   "metadata": {},
   "source": [
    "## Velocity Boundary Conditions"
   ]
  },
  {
   "cell_type": "code",
   "execution_count": 18,
   "metadata": {},
   "outputs": [
    {
     "data": {
      "text/plain": [
       "<underworld.conditions._conditions.DirichletCondition at 0x7f9d89571e80>"
      ]
     },
     "execution_count": 18,
     "metadata": {},
     "output_type": "execute_result"
    }
   ],
   "source": [
    "import underworld.function as fn\n",
    "velocity_fast = 2. * u.centimeter / u.year\n",
    "velocity = 0.7 * u.centimeter / u.year\n",
    "\n",
    "import underworld.function as fn\n",
    "\n",
    "tapeL=frictionalBasal\n",
    "flthick=GEO.nd(tapeL.top-tapeL.bottom)\n",
    "\n",
    "conditions = [(Model.y <= GEO.nd(rigidBase.top), GEO.nd(-velocity)),\n",
    "              (Model.y < GEO.nd(tapeL.top),\n",
    "               GEO.nd(-velocity)*(flthick-(Model.y-GEO.nd(tapeL.bottom)))/flthick),\n",
    "              (True, GEO.nd(0. * u.centimeter / u.year))]\n",
    "\n",
    "fn_condition = fn.branching.conditional(conditions)\n",
    "\n",
    "condition_right = [(Model.y > GEO.nd(-4. * u.kilometer), GEO.nd(-velocity_fast)),\n",
    "                   (Model.y <= GEO.nd(-4. * u.kilometer), GEO.nd(-velocity))]\n",
    "fn_condition_right = fn.branching.conditional(condition_right)\n",
    "\n",
    "Model.set_velocityBCs(left=[fn_condition, None],\n",
    "                      right=[fn_condition_right, 0.],\n",
    "                      top=[None, None],\n",
    "                      bottom=GEO.LecodeIsostasy(reference_mat=rigidBase, average=False))"
   ]
  },
  {
   "cell_type": "code",
   "execution_count": 19,
   "metadata": {},
   "outputs": [],
   "source": [
    "Model.init_model()\n"
   ]
  },
  {
   "cell_type": "markdown",
   "metadata": {},
   "source": [
    "## Interface Tracers"
   ]
  },
  {
   "cell_type": "code",
   "execution_count": 20,
   "metadata": {},
   "outputs": [],
   "source": [
    "x = np.linspace(GEO.nd(Model.minCoord[0]), GEO.nd(Model.maxCoord[0]), 1000)\n",
    "y = 0.\n",
    "\n",
    "surface_tracers = Model.add_passive_tracers(name=\"Surface\", vertices=[x,y])"
   ]
  },
  {
   "cell_type": "markdown",
   "metadata": {},
   "source": [
    "## Grid Tracers"
   ]
  },
  {
   "cell_type": "code",
   "execution_count": 21,
   "metadata": {},
   "outputs": [],
   "source": [
    "x_c, y_c = GEO.circles_grid(radius=0.1*u.kilometer, \n",
    "                     minCoord=[Model.minCoord[0], Basement.bottom], \n",
    "                     maxCoord=[Model.maxCoord[0], 0.*u.kilometer])\n",
    "\n",
    "FSE_Crust = Model.add_passive_tracers(name=\"FSE_Crust\", vertices=[x_c, y_c])"
   ]
  },
  {
   "cell_type": "markdown",
   "metadata": {},
   "source": [
    "## Run Model"
   ]
  },
  {
   "cell_type": "code",
   "execution_count": 22,
   "metadata": {},
   "outputs": [],
   "source": [
    "Model.init_model()"
   ]
  },
  {
   "cell_type": "code",
   "execution_count": 23,
   "metadata": {},
   "outputs": [
    {
     "name": "stdout",
     "output_type": "stream",
     "text": [
      "Running with UWGeodynamics version 2.8.5\n",
      "Options:  -remove_constant_pressure_null_space False -ksp_type bsscr -restore_K False -ksp_k2_type NULL -change_backsolve False -rescale_equations False -Q22_pc_type uw -change_A11rhspresolve False -pc_type none -A11_ksp_rtol 1e-06 -A11_ksp_type fgmres -scr_ksp_rtol 1e-05 -scr_ksp_type fgmres\n",
      "Step:     1 Model Time: 3961.1 year dt: 3961.1 year (2020-03-13 02:39:17)\n",
      "Step:     2 Model Time: 5000.0 year dt: 1038.9 year (2020-03-13 02:39:46)\n",
      "Step:     3 Model Time: 8961.1 year dt: 3961.1 year (2020-03-13 02:39:54)\n",
      "Step:     4 Model Time: 10000.0 year dt: 1038.9 year (2020-03-13 02:40:25)\n",
      "Step:     5 Model Time: 13961.1 year dt: 3961.1 year (2020-03-13 02:40:37)\n",
      "Step:     6 Model Time: 15000.0 year dt: 1038.9 year (2020-03-13 02:41:07)\n",
      "Step:     7 Model Time: 18961.1 year dt: 3961.1 year (2020-03-13 02:41:29)\n",
      "Step:     8 Model Time: 20000.0 year dt: 1038.9 year (2020-03-13 02:42:17)\n",
      "Step:     9 Model Time: 23961.1 year dt: 3961.1 year (2020-03-13 02:42:29)\n",
      "Step:    10 Model Time: 25000.0 year dt: 1038.9 year (2020-03-13 02:43:09)\n",
      "Step:    11 Model Time: 28961.1 year dt: 3961.1 year (2020-03-13 02:43:28)\n",
      "Step:    12 Model Time: 30000.0 year dt: 1038.9 year (2020-03-13 02:44:13)\n",
      "Step:    13 Model Time: 33961.1 year dt: 3961.1 year (2020-03-13 02:44:36)\n",
      "Step:    14 Model Time: 35000.0 year dt: 1038.9 year (2020-03-13 02:45:18)\n",
      "Step:    15 Model Time: 38961.1 year dt: 3961.1 year (2020-03-13 02:45:52)\n",
      "Step:    16 Model Time: 40000.0 year dt: 1038.9 year (2020-03-13 02:46:38)\n",
      "Step:    17 Model Time: 43961.1 year dt: 3961.1 year (2020-03-13 02:47:10)\n",
      "Step:    18 Model Time: 45000.0 year dt: 1038.9 year (2020-03-13 02:48:09)\n",
      "Step:    19 Model Time: 48961.1 year dt: 3961.1 year (2020-03-13 02:48:56)\n",
      "Step:    20 Model Time: 50000.0 year dt: 1038.9 year (2020-03-13 02:49:51)\n",
      "Step:    21 Model Time: 53961.1 year dt: 3961.1 year (2020-03-13 02:50:19)\n",
      "Step:    22 Model Time: 55000.0 year dt: 1038.9 year (2020-03-13 02:51:06)\n",
      "Step:    23 Model Time: 58961.1 year dt: 3961.1 year (2020-03-13 02:51:42)\n",
      "Step:    24 Model Time: 60000.0 year dt: 1038.9 year (2020-03-13 02:52:25)\n",
      "Step:    25 Model Time: 63961.1 year dt: 3961.1 year (2020-03-13 02:52:55)\n",
      "Step:    26 Model Time: 65000.0 year dt: 1038.9 year (2020-03-13 02:53:42)\n",
      "Step:    27 Model Time: 68961.1 year dt: 3961.1 year (2020-03-13 02:54:09)\n",
      "Step:    28 Model Time: 70000.0 year dt: 1038.9 year (2020-03-13 02:54:47)\n",
      "Step:    29 Model Time: 73961.1 year dt: 3961.1 year (2020-03-13 02:55:15)\n",
      "Step:    30 Model Time: 75000.0 year dt: 1038.9 year (2020-03-13 02:55:52)\n",
      "Step:    31 Model Time: 78961.1 year dt: 3961.1 year (2020-03-13 02:56:08)\n",
      "Step:    32 Model Time: 80000.0 year dt: 1038.9 year (2020-03-13 02:56:38)\n",
      "Step:    33 Model Time: 83961.1 year dt: 3961.1 year (2020-03-13 02:56:49)\n",
      "Step:    34 Model Time: 85000.0 year dt: 1038.9 year (2020-03-13 02:57:22)\n",
      "Step:    35 Model Time: 88961.1 year dt: 3961.1 year (2020-03-13 02:57:32)\n",
      "Step:    36 Model Time: 90000.0 year dt: 1038.9 year (2020-03-13 02:58:02)\n",
      "Step:    37 Model Time: 93961.1 year dt: 3961.1 year (2020-03-13 02:58:14)\n",
      "Step:    38 Model Time: 95000.0 year dt: 1038.9 year (2020-03-13 02:58:43)\n",
      "Step:    39 Model Time: 98961.1 year dt: 3961.1 year (2020-03-13 02:58:54)\n",
      "Step:    40 Model Time: 100000.0 year dt: 1038.9 year (2020-03-13 02:59:28)\n",
      "Step:    41 Model Time: 103961.1 year dt: 3961.1 year (2020-03-13 02:59:41)\n",
      "Step:    42 Model Time: 105000.0 year dt: 1038.9 year (2020-03-13 03:00:12)\n",
      "Step:    43 Model Time: 108961.1 year dt: 3961.1 year (2020-03-13 03:00:23)\n",
      "Step:    44 Model Time: 110000.0 year dt: 1038.9 year (2020-03-13 03:00:54)\n",
      "Step:    45 Model Time: 113961.1 year dt: 3961.1 year (2020-03-13 03:01:04)\n",
      "Step:    46 Model Time: 115000.0 year dt: 1038.9 year (2020-03-13 03:01:34)\n",
      "Step:    47 Model Time: 118961.1 year dt: 3961.1 year (2020-03-13 03:01:49)\n",
      "Step:    48 Model Time: 120000.0 year dt: 1038.9 year (2020-03-13 03:02:25)\n",
      "Step:    49 Model Time: 123961.1 year dt: 3961.1 year (2020-03-13 03:02:43)\n",
      "Step:    50 Model Time: 125000.0 year dt: 1038.9 year (2020-03-13 03:03:23)\n",
      "Step:    51 Model Time: 128961.1 year dt: 3961.1 year (2020-03-13 03:03:44)\n",
      "Step:    52 Model Time: 130000.0 year dt: 1038.9 year (2020-03-13 03:04:32)\n",
      "Step:    53 Model Time: 133961.1 year dt: 3961.1 year (2020-03-13 03:04:58)\n",
      "Step:    54 Model Time: 135000.0 year dt: 1038.9 year (2020-03-13 03:05:43)\n",
      "Step:    55 Model Time: 138961.1 year dt: 3961.1 year (2020-03-13 03:06:14)\n",
      "Step:    56 Model Time: 140000.0 year dt: 1038.9 year (2020-03-13 03:07:03)\n",
      "Step:    57 Model Time: 143961.1 year dt: 3961.1 year (2020-03-13 03:07:30)\n",
      "Step:    58 Model Time: 145000.0 year dt: 1038.9 year (2020-03-13 03:08:21)\n",
      "Step:    59 Model Time: 148961.1 year dt: 3961.1 year (2020-03-13 03:08:53)\n",
      "Step:    60 Model Time: 150000.0 year dt: 1038.9 year (2020-03-13 08:42:28)\n",
      "Step:    61 Model Time: 153961.1 year dt: 3961.1 year (2020-03-13 08:42:57)\n",
      "Step:    62 Model Time: 155000.0 year dt: 1038.9 year (2020-03-13 08:44:01)\n",
      "Step:    63 Model Time: 158961.1 year dt: 3961.1 year (2020-03-13 08:44:37)\n",
      "Step:    64 Model Time: 160000.0 year dt: 1038.9 year (2020-03-13 08:45:36)\n",
      "Step:    65 Model Time: 163961.1 year dt: 3961.1 year (2020-03-13 08:46:16)\n",
      "Step:    66 Model Time: 165000.0 year dt: 1038.9 year (2020-03-13 08:47:26)\n",
      "Step:    67 Model Time: 168961.1 year dt: 3961.1 year (2020-03-13 08:48:01)\n",
      "Step:    68 Model Time: 170000.0 year dt: 1038.9 year (2020-03-13 08:48:54)\n",
      "Step:    69 Model Time: 173961.1 year dt: 3961.1 year (2020-03-13 08:49:27)\n",
      "Step:    70 Model Time: 175000.0 year dt: 1038.9 year (2020-03-13 08:50:24)\n",
      "Step:    71 Model Time: 178961.1 year dt: 3961.1 year (2020-03-13 08:50:49)\n",
      "Step:    72 Model Time: 180000.0 year dt: 1038.9 year (2020-03-13 08:51:47)\n",
      "Step:    73 Model Time: 183961.1 year dt: 3961.1 year (2020-03-13 08:52:16)\n",
      "Step:    74 Model Time: 185000.0 year dt: 1038.9 year (2020-03-13 08:53:05)\n",
      "Step:    75 Model Time: 188961.1 year dt: 3961.1 year (2020-03-13 08:53:29)\n",
      "Step:    76 Model Time: 190000.0 year dt: 1038.9 year (2020-03-15 23:44:17)\n",
      "Step:    77 Model Time: 193961.1 year dt: 3961.1 year (2020-03-15 23:44:46)\n",
      "Step:    78 Model Time: 195000.0 year dt: 1038.9 year (2020-03-15 23:45:44)\n",
      "Step:    79 Model Time: 198961.1 year dt: 3961.1 year (2020-03-15 23:46:18)\n",
      "Step:    80 Model Time: 200000.0 year dt: 1038.9 year (2020-03-15 23:47:08)\n",
      "Step:    81 Model Time: 203961.1 year dt: 3961.1 year (2020-03-15 23:47:34)\n",
      "Step:    82 Model Time: 205000.0 year dt: 1038.9 year (2020-03-15 23:48:23)\n",
      "Step:    83 Model Time: 208961.1 year dt: 3961.1 year (2020-03-15 23:48:55)\n",
      "Step:    84 Model Time: 210000.0 year dt: 1038.9 year (2020-03-15 23:49:47)\n",
      "Step:    85 Model Time: 213961.1 year dt: 3961.1 year (2020-03-15 23:50:14)\n",
      "Step:    86 Model Time: 215000.0 year dt: 1038.9 year (2020-03-15 23:51:08)\n",
      "Step:    87 Model Time: 218961.1 year dt: 3961.1 year (2020-03-15 23:51:38)\n",
      "Step:    88 Model Time: 220000.0 year dt: 1038.9 year (2020-03-15 23:52:27)\n",
      "Step:    89 Model Time: 223961.1 year dt: 3961.1 year (2020-03-15 23:52:55)\n",
      "Step:    90 Model Time: 225000.0 year dt: 1038.9 year (2020-03-15 23:53:46)\n",
      "Step:    91 Model Time: 228961.1 year dt: 3961.1 year (2020-03-15 23:54:19)\n",
      "Step:    92 Model Time: 230000.0 year dt: 1038.9 year (2020-03-15 23:55:20)\n",
      "Step:    93 Model Time: 233961.1 year dt: 3961.1 year (2020-03-15 23:55:56)\n",
      "Step:    94 Model Time: 235000.0 year dt: 1038.9 year (2020-03-15 23:57:01)\n",
      "Step:    95 Model Time: 238961.1 year dt: 3961.1 year (2020-03-15 23:57:36)\n",
      "Step:    96 Model Time: 240000.0 year dt: 1038.9 year (2020-03-15 23:58:36)\n",
      "Step:    97 Model Time: 243961.1 year dt: 3961.1 year (2020-03-15 23:59:15)\n",
      "Step:    98 Model Time: 245000.0 year dt: 1038.9 year (2020-03-16 00:00:25)\n",
      "Step:    99 Model Time: 248961.1 year dt: 3961.1 year (2020-03-16 00:01:09)\n",
      "Step:   100 Model Time: 250000.0 year dt: 1038.9 year (2020-03-16 00:02:16)\n",
      "Step:   101 Model Time: 253961.1 year dt: 3961.1 year (2020-03-16 00:02:50)\n",
      "Step:   102 Model Time: 255000.0 year dt: 1038.9 year (2020-03-16 00:03:53)\n",
      "Step:   103 Model Time: 258961.1 year dt: 3961.1 year (2020-03-16 00:04:32)\n",
      "Step:   104 Model Time: 260000.0 year dt: 1038.9 year (2020-03-16 00:05:32)\n"
     ]
    },
    {
     "name": "stdout",
     "output_type": "stream",
     "text": [
      "Step:   105 Model Time: 263961.1 year dt: 3961.1 year (2020-03-16 00:06:10)\n",
      "Step:   106 Model Time: 265000.0 year dt: 1038.9 year (2020-03-16 00:07:29)\n",
      "Step:   107 Model Time: 268961.1 year dt: 3961.1 year (2020-03-16 00:08:27)\n",
      "Step:   108 Model Time: 270000.0 year dt: 1038.9 year (2020-03-16 00:09:55)\n",
      "Step:   109 Model Time: 273961.1 year dt: 3961.1 year (2020-03-16 00:10:55)\n",
      "Step:   110 Model Time: 275000.0 year dt: 1038.9 year (2020-03-16 00:12:04)\n",
      "Step:   111 Model Time: 278961.1 year dt: 3961.1 year (2020-03-16 00:12:49)\n",
      "Step:   112 Model Time: 280000.0 year dt: 1038.9 year (2020-03-16 00:13:51)\n",
      "Step:   113 Model Time: 283961.1 year dt: 3961.1 year (2020-03-16 00:14:31)\n",
      "Step:   114 Model Time: 285000.0 year dt: 1038.9 year (2020-03-16 00:15:52)\n",
      "Step:   115 Model Time: 288961.1 year dt: 3961.1 year (2020-03-16 00:16:56)\n",
      "Step:   116 Model Time: 290000.0 year dt: 1038.9 year (2020-03-16 00:17:51)\n",
      "Step:   117 Model Time: 293961.1 year dt: 3961.1 year (2020-03-16 00:18:21)\n",
      "Step:   118 Model Time: 295000.0 year dt: 1038.9 year (2020-03-16 00:19:14)\n",
      "Step:   119 Model Time: 298961.1 year dt: 3961.1 year (2020-03-16 00:19:45)\n",
      "Step:   120 Model Time: 300000.0 year dt: 1038.9 year (2020-03-16 00:20:52)\n",
      "Step:   121 Model Time: 303961.1 year dt: 3961.1 year (2020-03-16 00:21:41)\n",
      "Step:   122 Model Time: 305000.0 year dt: 1038.9 year (2020-03-16 00:22:52)\n",
      "Step:   123 Model Time: 308961.1 year dt: 3961.1 year (2020-03-16 00:23:27)\n",
      "Step:   124 Model Time: 310000.0 year dt: 1038.9 year (2020-03-16 00:24:30)\n",
      "Step:   125 Model Time: 313961.1 year dt: 3961.1 year (2020-03-16 00:25:09)\n",
      "Step:   126 Model Time: 315000.0 year dt: 1038.9 year (2020-03-16 00:26:32)\n",
      "Step:   127 Model Time: 318961.1 year dt: 3961.1 year (2020-03-16 00:27:26)\n",
      "Step:   128 Model Time: 320000.0 year dt: 1038.9 year (2020-03-16 00:28:51)\n",
      "Step:   129 Model Time: 323961.1 year dt: 3961.1 year (2020-03-16 00:30:00)\n",
      "Step:   130 Model Time: 325000.0 year dt: 1038.9 year (2020-03-16 00:31:08)\n",
      "Step:   131 Model Time: 328961.1 year dt: 3961.1 year (2020-03-16 00:31:40)\n",
      "Step:   132 Model Time: 330000.0 year dt: 1038.9 year (2020-03-16 00:32:37)\n",
      "Step:   133 Model Time: 333961.1 year dt: 3961.1 year (2020-03-16 00:33:11)\n",
      "Step:   134 Model Time: 335000.0 year dt: 1038.9 year (2020-03-16 00:34:15)\n",
      "Step:   135 Model Time: 338961.1 year dt: 3961.1 year (2020-03-16 00:34:56)\n",
      "Step:   136 Model Time: 340000.0 year dt: 1038.9 year (2020-03-16 00:36:13)\n",
      "Step:   137 Model Time: 343961.1 year dt: 3961.1 year (2020-03-16 00:37:00)\n",
      "Step:   138 Model Time: 345000.0 year dt: 1038.9 year (2020-03-16 00:38:08)\n",
      "Step:   139 Model Time: 348961.1 year dt: 3961.1 year (2020-03-16 00:42:19)\n",
      "Step:   140 Model Time: 350000.0 year dt: 1038.9 year (2020-03-16 00:43:22)\n",
      "Step:   141 Model Time: 353961.1 year dt: 3961.1 year (2020-03-16 00:43:59)\n",
      "Step:   142 Model Time: 355000.0 year dt: 1038.9 year (2020-03-16 00:44:54)\n",
      "Step:   143 Model Time: 358961.1 year dt: 3961.1 year (2020-03-16 00:45:26)\n",
      "Step:   144 Model Time: 360000.0 year dt: 1038.9 year (2020-03-16 00:46:28)\n",
      "Step:   145 Model Time: 363961.1 year dt: 3961.1 year (2020-03-16 00:47:16)\n",
      "Step:   146 Model Time: 365000.0 year dt: 1038.9 year (2020-03-16 00:48:21)\n",
      "Step:   147 Model Time: 368961.1 year dt: 3961.1 year (2020-03-16 00:49:04)\n",
      "Step:   148 Model Time: 370000.0 year dt: 1038.9 year (2020-03-16 00:50:09)\n",
      "Step:   149 Model Time: 373961.1 year dt: 3961.1 year (2020-03-16 00:50:43)\n",
      "Step:   150 Model Time: 375000.0 year dt: 1038.9 year (2020-03-16 00:51:36)\n",
      "Step:   151 Model Time: 378961.1 year dt: 3961.1 year (2020-03-16 00:52:02)\n",
      "Step:   152 Model Time: 380000.0 year dt: 1038.9 year (2020-03-16 00:52:54)\n",
      "Step:   153 Model Time: 383961.1 year dt: 3961.1 year (2020-03-16 00:53:26)\n",
      "Step:   154 Model Time: 385000.0 year dt: 1038.9 year (2020-03-16 00:54:12)\n",
      "Step:   155 Model Time: 388961.1 year dt: 3961.1 year (2020-03-16 00:54:38)\n",
      "Step:   156 Model Time: 390000.0 year dt: 1038.9 year (2020-03-16 00:55:33)\n",
      "Step:   157 Model Time: 393961.1 year dt: 3961.1 year (2020-03-16 00:56:06)\n",
      "Step:   158 Model Time: 395000.0 year dt: 1038.9 year (2020-03-16 00:56:55)\n",
      "Step:   159 Model Time: 398961.1 year dt: 3961.1 year (2020-03-16 00:57:20)\n",
      "Step:   160 Model Time: 400000.0 year dt: 1038.9 year (2020-03-16 00:58:11)\n",
      "Step:   161 Model Time: 403961.1 year dt: 3961.1 year (2020-03-16 00:58:40)\n",
      "Step:   162 Model Time: 405000.0 year dt: 1038.9 year (2020-03-16 00:59:34)\n",
      "Step:   163 Model Time: 408961.1 year dt: 3961.1 year (2020-03-16 01:00:13)\n",
      "Step:   164 Model Time: 410000.0 year dt: 1038.9 year (2020-03-16 01:01:17)\n",
      "Step:   165 Model Time: 413961.1 year dt: 3961.1 year (2020-03-16 01:02:02)\n",
      "Step:   166 Model Time: 415000.0 year dt: 1038.9 year (2020-03-16 01:03:03)\n",
      "Step:   167 Model Time: 418961.1 year dt: 3961.1 year (2020-03-16 01:03:34)\n",
      "Step:   168 Model Time: 420000.0 year dt: 1038.9 year (2020-03-16 01:04:37)\n",
      "Step:   169 Model Time: 423961.1 year dt: 3961.1 year (2020-03-16 01:05:08)\n",
      "Step:   170 Model Time: 425000.0 year dt: 1038.9 year (2020-03-16 01:05:52)\n",
      "Step:   171 Model Time: 428961.1 year dt: 3961.1 year (2020-03-16 01:06:17)\n",
      "Step:   172 Model Time: 430000.0 year dt: 1038.9 year (2020-03-16 01:07:01)\n",
      "Step:   173 Model Time: 433961.1 year dt: 3961.1 year (2020-03-16 01:07:28)\n",
      "Step:   174 Model Time: 435000.0 year dt: 1038.9 year (2020-03-16 01:08:10)\n",
      "Step:   175 Model Time: 438961.1 year dt: 3961.1 year (2020-03-16 01:08:31)\n",
      "Step:   176 Model Time: 440000.0 year dt: 1038.9 year (2020-03-16 01:09:14)\n",
      "Step:   177 Model Time: 443961.1 year dt: 3961.1 year (2020-03-16 01:09:41)\n",
      "Step:   178 Model Time: 445000.0 year dt: 1038.9 year (2020-03-16 01:10:22)\n",
      "Step:   179 Model Time: 445145.4 year dt: 145.4 year (2020-03-16 01:19:48)\n",
      "Step:   180 Model Time: 449106.5 year dt: 3961.1 year (2020-03-16 01:22:11)\n"
     ]
    },
    {
     "name": "stderr",
     "output_type": "stream",
     "text": [
      "/usr/local/lib/python3.5/dist-packages/UWGeodynamics/LecodeIsostasy/LecodeIsostasy.py:146: RuntimeWarning: divide by zero encountered in true_divide\n",
      "  basal_velocities = -1.0 * botMeanDensities * sep_velocities_nodes / botMeanDensities0\n",
      "/usr/local/underworld2/lib/underworld/systems/_bsscr.py:477: UserWarning: A PETSc error has been encountered during the solve. Solution fields are possibly erroneous. \n",
      "\n",
      "This error is probably due to an incorrectly constructed linear system. Please check that your boundary conditions are consistent and sufficient and that your viscosity is positive everywhere. If you are deforming the mesh, ensure that it has not become tangled. \n",
      "\n",
      "The resultant KSPConvergedReasons are (f_hat, outer, backsolve) (-9,-9,-9).\n",
      "\n",
      "\n",
      "  warnings.warn(estring)\n",
      "/usr/local/underworld2/lib/underworld/systems/_bsscr.py:496: UserWarning: A floating-point error has been detected during the solve. Solution fields are possibly erroneous. \n",
      "\n",
      "This is likely due to overly large value variations within your linear system, or a fragile (or incorrect) solver configuration. If your inputs are constructed using real world physical units, you may need to rescale them for solver amenability. \n",
      "\n",
      "\n",
      "  warnings.warn(estring)\n"
     ]
    },
    {
     "ename": "RuntimeError",
     "evalue": "Error encountered. Full restart recommended as exception safety not guaranteed. Error message:\nError - in TimeIntegrand_SecondOrder(), for TimeIntegrand \"1GP72UDN__integrand\" of type SwarmAdvector: When trying to find time deriv for item 1456 in step 1, *failed*.\n\nUnable to determine valid velocity for particle of local id 1456 with coordinate (0.433193,-0.265383) on process rank 0. Velocity appears infinite.",
     "output_type": "error",
     "traceback": [
      "\u001b[0;31m\u001b[0m",
      "\u001b[0;31mRuntimeError\u001b[0mTraceback (most recent call last)",
      "\u001b[0;32m<ipython-input-23-7968bbba250c>\u001b[0m in \u001b[0;36m<module>\u001b[0;34m\u001b[0m\n\u001b[0;32m----> 1\u001b[0;31m \u001b[0mModel\u001b[0m\u001b[0;34m.\u001b[0m\u001b[0mrun_for\u001b[0m\u001b[0;34m(\u001b[0m \u001b[0;36m450001.\u001b[0m\u001b[0;34m*\u001b[0m \u001b[0mu\u001b[0m\u001b[0;34m.\u001b[0m\u001b[0myear\u001b[0m\u001b[0;34m,\u001b[0m \u001b[0mcheckpoint_interval\u001b[0m\u001b[0;34m=\u001b[0m\u001b[0;36m5000.\u001b[0m \u001b[0;34m*\u001b[0m \u001b[0mu\u001b[0m\u001b[0;34m.\u001b[0m\u001b[0myear\u001b[0m\u001b[0;34m)\u001b[0m\u001b[0;34m\u001b[0m\u001b[0m\n\u001b[0m",
      "\u001b[0;32m/usr/local/lib/python3.5/dist-packages/pint/registry_helpers.py\u001b[0m in \u001b[0;36mwrapper\u001b[0;34m(*args, **kwargs)\u001b[0m\n\u001b[1;32m    245\u001b[0m                     raise DimensionalityError(value, 'a quantity of',\n\u001b[1;32m    246\u001b[0m                                               val_dim, dim)\n\u001b[0;32m--> 247\u001b[0;31m             \u001b[0;32mreturn\u001b[0m \u001b[0mfunc\u001b[0m\u001b[0;34m(\u001b[0m\u001b[0;34m*\u001b[0m\u001b[0margs\u001b[0m\u001b[0;34m,\u001b[0m \u001b[0;34m**\u001b[0m\u001b[0mkwargs\u001b[0m\u001b[0;34m)\u001b[0m\u001b[0;34m\u001b[0m\u001b[0m\n\u001b[0m\u001b[1;32m    248\u001b[0m         \u001b[0;32mreturn\u001b[0m \u001b[0mwrapper\u001b[0m\u001b[0;34m\u001b[0m\u001b[0m\n\u001b[1;32m    249\u001b[0m     \u001b[0;32mreturn\u001b[0m \u001b[0mdecorator\u001b[0m\u001b[0;34m\u001b[0m\u001b[0m\n",
      "\u001b[0;32m/usr/local/lib/python3.5/dist-packages/UWGeodynamics/_model.py\u001b[0m in \u001b[0;36mrun_for\u001b[0;34m(self, duration, checkpoint_interval, nstep, checkpoint_times, restart_checkpoint, dt, restartStep, restartDir, output_units)\u001b[0m\n\u001b[1;32m   1632\u001b[0m             \u001b[0mcomm\u001b[0m\u001b[0;34m.\u001b[0m\u001b[0mBarrier\u001b[0m\u001b[0;34m(\u001b[0m\u001b[0;34m)\u001b[0m\u001b[0;34m\u001b[0m\u001b[0m\n\u001b[1;32m   1633\u001b[0m \u001b[0;34m\u001b[0m\u001b[0m\n\u001b[0;32m-> 1634\u001b[0;31m             \u001b[0mself\u001b[0m\u001b[0;34m.\u001b[0m\u001b[0m_update\u001b[0m\u001b[0;34m(\u001b[0m\u001b[0;34m)\u001b[0m\u001b[0;34m\u001b[0m\u001b[0m\n\u001b[0m\u001b[1;32m   1635\u001b[0m \u001b[0;34m\u001b[0m\u001b[0m\n\u001b[1;32m   1636\u001b[0m             \u001b[0mself\u001b[0m\u001b[0;34m.\u001b[0m\u001b[0mstep\u001b[0m \u001b[0;34m+=\u001b[0m \u001b[0;36m1\u001b[0m\u001b[0;34m\u001b[0m\u001b[0m\n",
      "\u001b[0;32m/usr/local/lib/python3.5/dist-packages/UWGeodynamics/_model.py\u001b[0m in \u001b[0;36m_update\u001b[0;34m(self)\u001b[0m\n\u001b[1;32m   1732\u001b[0m         \u001b[0;32melse\u001b[0m\u001b[0;34m:\u001b[0m\u001b[0;34m\u001b[0m\u001b[0m\n\u001b[1;32m   1733\u001b[0m             \u001b[0;31m# Integrate Swarms in time\u001b[0m\u001b[0;34m\u001b[0m\u001b[0;34m\u001b[0m\u001b[0m\n\u001b[0;32m-> 1734\u001b[0;31m             \u001b[0mself\u001b[0m\u001b[0;34m.\u001b[0m\u001b[0mswarm_advector\u001b[0m\u001b[0;34m.\u001b[0m\u001b[0mintegrate\u001b[0m\u001b[0;34m(\u001b[0m\u001b[0mdt\u001b[0m\u001b[0;34m,\u001b[0m \u001b[0mupdate_owners\u001b[0m\u001b[0;34m=\u001b[0m\u001b[0;32mTrue\u001b[0m\u001b[0;34m)\u001b[0m\u001b[0;34m\u001b[0m\u001b[0m\n\u001b[0m\u001b[1;32m   1735\u001b[0m \u001b[0;34m\u001b[0m\u001b[0m\n\u001b[1;32m   1736\u001b[0m         \u001b[0;31m# Update stress\u001b[0m\u001b[0;34m\u001b[0m\u001b[0;34m\u001b[0m\u001b[0m\n",
      "\u001b[0;32m/usr/local/underworld2/lib/underworld/systems/_timeintegration.py\u001b[0m in \u001b[0;36mintegrate\u001b[0;34m(self, dt, update_owners)\u001b[0m\n\u001b[1;32m    150\u001b[0m         \"\"\"\n\u001b[1;32m    151\u001b[0m         \u001b[0mlibUnderworld\u001b[0m\u001b[0;34m.\u001b[0m\u001b[0mStgFEM\u001b[0m\u001b[0;34m.\u001b[0m\u001b[0m_FeVariable_SyncShadowValues\u001b[0m\u001b[0;34m(\u001b[0m \u001b[0mself\u001b[0m\u001b[0;34m.\u001b[0m\u001b[0m_integrand\u001b[0m\u001b[0;34m.\u001b[0m\u001b[0mvelocityField\u001b[0m \u001b[0;34m)\u001b[0m\u001b[0;34m\u001b[0m\u001b[0m\n\u001b[0;32m--> 152\u001b[0;31m         \u001b[0msuper\u001b[0m\u001b[0;34m(\u001b[0m\u001b[0mSwarmAdvector\u001b[0m\u001b[0;34m,\u001b[0m\u001b[0mself\u001b[0m\u001b[0;34m)\u001b[0m\u001b[0;34m.\u001b[0m\u001b[0mintegrate\u001b[0m\u001b[0;34m(\u001b[0m\u001b[0mdt\u001b[0m\u001b[0;34m)\u001b[0m\u001b[0;34m\u001b[0m\u001b[0m\n\u001b[0m\u001b[1;32m    153\u001b[0m         \u001b[0;31m# this check isn't necessary, but good. possibly get rid.\u001b[0m\u001b[0;34m\u001b[0m\u001b[0;34m\u001b[0m\u001b[0m\n\u001b[1;32m    154\u001b[0m         \u001b[0mlibUnderworld\u001b[0m\u001b[0;34m.\u001b[0m\u001b[0mStgDomain\u001b[0m\u001b[0;34m.\u001b[0m\u001b[0mSwarm_CheckCoordsAreFinite\u001b[0m\u001b[0;34m(\u001b[0m \u001b[0mself\u001b[0m\u001b[0;34m.\u001b[0m\u001b[0m_integrand\u001b[0m\u001b[0;34m.\u001b[0m\u001b[0mswarm\u001b[0m \u001b[0;34m)\u001b[0m\u001b[0;34m;\u001b[0m\u001b[0;34m\u001b[0m\u001b[0m\n",
      "\u001b[0;32m/usr/local/underworld2/lib/underworld/systems/_timeintegration.py\u001b[0m in \u001b[0;36mintegrate\u001b[0;34m(self, dt)\u001b[0m\n\u001b[1;32m     48\u001b[0m     \u001b[0;32mdef\u001b[0m \u001b[0mintegrate\u001b[0m\u001b[0;34m(\u001b[0m\u001b[0mself\u001b[0m\u001b[0;34m,\u001b[0m\u001b[0mdt\u001b[0m\u001b[0;34m)\u001b[0m\u001b[0;34m:\u001b[0m\u001b[0;34m\u001b[0m\u001b[0m\n\u001b[1;32m     49\u001b[0m         \u001b[0mself\u001b[0m\u001b[0;34m.\u001b[0m\u001b[0mdt\u001b[0m \u001b[0;34m=\u001b[0m \u001b[0mdt\u001b[0m\u001b[0;34m\u001b[0m\u001b[0m\n\u001b[0;32m---> 50\u001b[0;31m         \u001b[0mlibUnderworld\u001b[0m\u001b[0;34m.\u001b[0m\u001b[0mStgDomain\u001b[0m\u001b[0;34m.\u001b[0m\u001b[0m_TimeIntegrator_Execute\u001b[0m\u001b[0;34m(\u001b[0m\u001b[0mself\u001b[0m\u001b[0;34m.\u001b[0m\u001b[0m_cself\u001b[0m\u001b[0;34m,\u001b[0m \u001b[0;32mNone\u001b[0m\u001b[0;34m)\u001b[0m\u001b[0;34m\u001b[0m\u001b[0m\n\u001b[0m\u001b[1;32m     51\u001b[0m \u001b[0;34m\u001b[0m\u001b[0m\n\u001b[1;32m     52\u001b[0m     \u001b[0;32mdef\u001b[0m \u001b[0mget_max_dt\u001b[0m\u001b[0;34m(\u001b[0m\u001b[0mself\u001b[0m\u001b[0;34m)\u001b[0m\u001b[0;34m:\u001b[0m\u001b[0;34m\u001b[0m\u001b[0m\n",
      "\u001b[0;31mRuntimeError\u001b[0m: Error encountered. Full restart recommended as exception safety not guaranteed. Error message:\nError - in TimeIntegrand_SecondOrder(), for TimeIntegrand \"1GP72UDN__integrand\" of type SwarmAdvector: When trying to find time deriv for item 1456 in step 1, *failed*.\n\nUnable to determine valid velocity for particle of local id 1456 with coordinate (0.433193,-0.265383) on process rank 0. Velocity appears infinite."
     ]
    }
   ],
   "source": [
    "Model.run_for( 450001.* u.year, checkpoint_interval=5000. * u.year)\n"
   ]
  },
  {
   "cell_type": "code",
   "execution_count": null,
   "metadata": {},
   "outputs": [],
   "source": []
  }
 ],
 "metadata": {
  "kernelspec": {
   "display_name": "Python 3",
   "language": "python",
   "name": "python3"
  },
  "language_info": {
   "codemirror_mode": {
    "name": "ipython",
    "version": 3
   },
   "file_extension": ".py",
   "mimetype": "text/x-python",
   "name": "python",
   "nbconvert_exporter": "python",
   "pygments_lexer": "ipython3",
   "version": "3.5.3"
  }
 },
 "nbformat": 4,
 "nbformat_minor": 2
}
